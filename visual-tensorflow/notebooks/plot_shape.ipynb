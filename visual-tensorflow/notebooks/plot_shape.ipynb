{
 "cells": [
  {
   "cell_type": "code",
   "execution_count": 2,
   "metadata": {
    "collapsed": false
   },
   "outputs": [],
   "source": [
    "import os\n",
    "import pandas as pd\n",
    "from matplotlib import pyplot as plt\n",
    "plt.style.use('ggplot')\n",
    "\n",
    "# Set path to root directory so we can access core, tasks, data, etc.\n",
    "os.chdir('..')"
   ]
  },
  {
   "cell_type": "code",
   "execution_count": 3,
   "metadata": {
    "collapsed": true
   },
   "outputs": [],
   "source": [
    "import numpy\n",
    "def smooth(x,window_len=11,window='hanning'):\n",
    "    if x.ndim != 1:\n",
    "            raise ValueError, \"smooth only accepts 1 dimension arrays.\"\n",
    "    if x.size < window_len:\n",
    "            raise ValueError, \"Input vector needs to be bigger than window size.\"\n",
    "    if window_len<3:\n",
    "            return x\n",
    "    if not window in ['flat', 'hanning', 'hamming', 'bartlett', 'blackman']:\n",
    "            raise ValueError, \"Window is on of 'flat', 'hanning', 'hamming', 'bartlett', 'blackman'\"\n",
    "    s=numpy.r_[2*x[0]-x[window_len-1::-1],x,2*x[-1]-x[-1:-window_len:-1]]\n",
    "    if window == 'flat': #moving average\n",
    "            w=numpy.ones(window_len,'d')\n",
    "    else:  \n",
    "            w=eval('numpy.'+window+'(window_len)')\n",
    "    y=numpy.convolve(w/w.sum(),s,mode='same')\n",
    "    return y[window_len:-window_len+1]"
   ]
  },
  {
   "cell_type": "code",
   "execution_count": 3,
   "metadata": {
    "collapsed": false
   },
   "outputs": [],
   "source": [
    "# Original vizsent torch\n",
    "vid = pd.read_csv('data/videos/@Animated/@NewDisney/Feast/preds_old_torch/posneg.csv',\n",
    "                  header=None, names=['Positive', 'Negative'])\n",
    "smoothed = smooth(vid.Positive.values, window_len=48)\n",
    "\n",
    "pd.Series(smoothed).plot()\n",
    "plt.show()"
   ]
  },
  {
   "cell_type": "code",
   "execution_count": 5,
   "metadata": {
    "collapsed": false
   },
   "outputs": [],
   "source": [
    "# Sent biclass\n",
    "vid = pd.read_csv('data/videos/@Animated/@NewDisney/Feast/preds/sent_biclass.csv')\n",
    "\n",
    "# vid = pd.read_csv('data/plutchik/preds/sent_biclass_5.csv')\n",
    "smoothed = smooth(vid.pos.values, window_len=48)\n",
    "pd.Series(smoothed).plot()\n",
    "plt.show()"
   ]
  },
  {
   "cell_type": "code",
   "execution_count": 6,
   "metadata": {
    "collapsed": false
   },
   "outputs": [],
   "source": [
    "# Plutchik\n",
    "vid = pd.read_csv('data/plutchik/preds/sent_biclass_5.csv')\n",
    "pd.Series(vid.pos.values).plot()\n",
    "plt.show()"
   ]
  },
  {
   "cell_type": "code",
   "execution_count": 4,
   "metadata": {
    "collapsed": false
   },
   "outputs": [],
   "source": [
    "# Emo\n",
    "vid = pd.read_csv('data/videos/@Animated/@NewDisney/Feast/preds/emo.csv')\n",
    "\n",
    "w = 48\n",
    "anger = smooth(vid.anger.values, window_len=w)\n",
    "anticipation = smooth(vid.anticipation.values, window_len=w)\n",
    "disgust = smooth(vid.anger.values, window_len=w)\n",
    "fear = smooth(vid.anger.values, window_len=w)\n",
    "joy = smooth(vid.joy.values, window_len=w)\n",
    "sadness = smooth(vid.sadness.values, window_len=w)\n",
    "surprise = smooth(vid.surprise.values, window_len=w)\n",
    "trust = smooth(vid.trust.values, window_len=w)\n",
    "\n",
    "# Trust dominates so plot without it too\n",
    "df = pd.DataFrame({'anger': anger, 'anticipation': anticipation, 'disgust': disgust, 'fear': fear,\n",
    "                   'joy': joy, 'sadness': sadness, 'surprise': surprise, 'trust': trust})\n",
    "df.plot()\n",
    "plt.show()\n",
    "\n",
    "df = pd.DataFrame({'anger': anger, 'anticipation': anticipation, 'disgust': disgust, 'fear': fear,\n",
    "                   'joy': joy, 'sadness': sadness, 'surprise': surprise})\n",
    "df.plot()\n",
    "plt.show()\n",
    "\n",
    "pd.Series(trust).plot()\n",
    "plt.show()"
   ]
  },
  {
   "cell_type": "code",
   "execution_count": null,
   "metadata": {
    "collapsed": true
   },
   "outputs": [],
   "source": []
  }
 ],
 "metadata": {
  "kernelspec": {
   "display_name": "Python 2",
   "language": "python",
   "name": "python2"
  },
  "language_info": {
   "codemirror_mode": {
    "name": "ipython",
    "version": 2
   },
   "file_extension": ".py",
   "mimetype": "text/x-python",
   "name": "python",
   "nbconvert_exporter": "python",
   "pygments_lexer": "ipython2",
   "version": "2.7.12"
  }
 },
 "nbformat": 4,
 "nbformat_minor": 0
}
