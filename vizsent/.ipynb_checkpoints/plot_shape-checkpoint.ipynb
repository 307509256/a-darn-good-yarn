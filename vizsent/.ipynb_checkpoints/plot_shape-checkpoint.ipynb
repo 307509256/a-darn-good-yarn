{
 "cells": [
  {
   "cell_type": "code",
   "execution_count": 1,
   "metadata": {
    "collapsed": false
   },
   "outputs": [],
   "source": [
    "import pandas as pd\n",
    "from matplotlib import pyplot as plt\n",
    "plt.style.use('ggplot')"
   ]
  },
  {
   "cell_type": "code",
   "execution_count": 2,
   "metadata": {
    "collapsed": false
   },
   "outputs": [],
   "source": [
    "vid = pd.read_csv('vids/Up/pred_lifestory.csv', header=0, names=['Positive', 'Negative'])"
   ]
  },
  {
   "cell_type": "code",
   "execution_count": 3,
   "metadata": {
    "collapsed": true
   },
   "outputs": [],
   "source": [
    "import numpy\n",
    "def smooth(x,window_len=11,window='hanning'):\n",
    "        if x.ndim != 1:\n",
    "                raise ValueError, \"smooth only accepts 1 dimension arrays.\"\n",
    "        if x.size < window_len:\n",
    "                raise ValueError, \"Input vector needs to be bigger than window size.\"\n",
    "        if window_len<3:\n",
    "                return x\n",
    "        if not window in ['flat', 'hanning', 'hamming', 'bartlett', 'blackman']:\n",
    "                raise ValueError, \"Window is on of 'flat', 'hanning', 'hamming', 'bartlett', 'blackman'\"\n",
    "        s=numpy.r_[2*x[0]-x[window_len-1::-1],x,2*x[-1]-x[-1:-window_len:-1]]\n",
    "        if window == 'flat': #moving average\n",
    "                w=numpy.ones(window_len,'d')\n",
    "        else:  \n",
    "                w=eval('numpy.'+window+'(window_len)')\n",
    "        y=numpy.convolve(w/w.sum(),s,mode='same')\n",
    "        return y[window_len:-window_len+1]"
   ]
  },
  {
   "cell_type": "code",
   "execution_count": 4,
   "metadata": {
    "collapsed": false
   },
   "outputs": [],
   "source": [
    "# To get time in movie from idx in vid\n",
    "# Feast: 6:49\n",
    "# 127Hours: 1:33:42\n",
    "# FindingNemo: 1:40:54\n",
    "# BigHero6: 1:41:53\n",
    "# JurassicPark: 2:06:39\n",
    "# LionKing: 2:22:09\n",
    "# Up: 1:36:08\n",
    "# Up: 2:40 - 11:35\n",
    "# movie_time_in_sec= 0 hour 6 min 46 sec = 0 * 3600 + 6 * 60 + 46 = 406 seconds\n",
    "# len_one_frame = movie_time_in_sec / len(vid)\n",
    "# time_at_idx = idx * len_one_frame (in seconds)"
   ]
  },
  {
   "cell_type": "code",
   "execution_count": 5,
   "metadata": {
    "collapsed": false
   },
   "outputs": [
    {
     "name": "stdout",
     "output_type": "stream",
     "text": [
      "535\n"
     ]
    }
   ],
   "source": [
    "print len(vid)"
   ]
  },
  {
   "cell_type": "code",
   "execution_count": null,
   "metadata": {
    "collapsed": false
   },
   "outputs": [],
   "source": [
    "smoothed = smooth(vid.Positive.values, window_len=100)\n",
    "# smoothed = smooth(gump.Positive.values, window_len=1200)\n",
    "pd.Series(smoothed).plot()\n",
    "plt.show()"
   ]
  },
  {
   "cell_type": "code",
   "execution_count": 6,
   "metadata": {
    "collapsed": false
   },
   "outputs": [
    {
     "name": "stdout",
     "output_type": "stream",
     "text": [
      "1\n"
     ]
    }
   ],
   "source": [
    "movie_time_in_sec = 1 * 3600 + 36 * 60 + 8\n",
    "len_one_frame = movie_time_in_sec / len(vid)\n",
    "print len_one_frame"
   ]
  },
  {
   "cell_type": "code",
   "execution_count": 7,
   "metadata": {
    "collapsed": false,
    "scrolled": false
   },
   "outputs": [
    {
     "data": {
      "text/plain": [
       "1.250982800982801"
      ]
     },
     "execution_count": 7,
     "metadata": {},
     "output_type": "execute_result"
    }
   ],
   "source": [
    "101.83 * 60 / 4884"
   ]
  },
  {
   "cell_type": "code",
   "execution_count": 20,
   "metadata": {
    "collapsed": false
   },
   "outputs": [
    {
     "data": {
      "text/plain": [
       "409"
      ]
     },
     "execution_count": 20,
     "metadata": {},
     "output_type": "execute_result"
    }
   ],
   "source": [
    "6 * 60 + 49"
   ]
  },
  {
   "cell_type": "code",
   "execution_count": null,
   "metadata": {
    "collapsed": false
   },
   "outputs": [],
   "source": [
    "# --- loading pre trained\n",
    "# require 'loadcaffe'\n",
    "# MODELS_BASE = '/Users/eric/projects/vizsent/models/'\n",
    "# model = loadcaffe.load(MODELS_BASE .. 'bvlc_googlenet/deploy.prototxt',\n",
    "#     MODELS_BASE .. 'bvlc_googlenet/bvlc_googlenet_trained.caffemodel', 'ccn2')"
   ]
  },
  {
   "cell_type": "code",
   "execution_count": null,
   "metadata": {
    "collapsed": true
   },
   "outputs": [],
   "source": [
    "# -- Visualize\n",
    "# -- require 'gfx.js'\n",
    "# -- mod = nn.SpatialConvolution(5,10, 16, 16)\n",
    "# -- filters = mod.weight\n",
    "# -- gfx.image(filters:view(5*10, 16, 16), {zoom=5.0})"
   ]
  }
 ],
 "metadata": {
  "kernelspec": {
   "display_name": "Python 2",
   "language": "python",
   "name": "python2"
  },
  "language_info": {
   "codemirror_mode": {
    "name": "ipython",
    "version": 2
   },
   "file_extension": ".py",
   "mimetype": "text/x-python",
   "name": "python",
   "nbconvert_exporter": "python",
   "pygments_lexer": "ipython2",
   "version": "2.7.10"
  }
 },
 "nbformat": 4,
 "nbformat_minor": 0
}
