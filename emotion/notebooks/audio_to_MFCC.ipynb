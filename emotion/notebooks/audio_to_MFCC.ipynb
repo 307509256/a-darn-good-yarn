{
 "cells": [
  {
   "cell_type": "code",
   "execution_count": 25,
   "metadata": {
    "collapsed": false
   },
   "outputs": [
    {
     "name": "stdout",
     "output_type": "stream",
     "text": [
      "(96, 938)\n"
     ]
    }
   ],
   "source": [
    "import librosa\n",
    "import numpy as np\n",
    "import matplotlib.pyplot as plt\n",
    "\n",
    "def compute_melgram(audio_path):\n",
    "    \"\"\"\n",
    "    Compute a mel-spectrogram and return a np array of shape (96,1407), where \n",
    "    96 == #mel-bins and 1407 == #time frame\n",
    "    \"\"\"\n",
    "\n",
    "    # Audio and mel-spectrogram parameters\n",
    "    SR = 12000\n",
    "    N_FFT = 512\n",
    "    N_MELS = 96\n",
    "    HOP_LEN = N_FFT / 2   # overlap 50%\n",
    "    DUR = 20              # in seconds\n",
    "\n",
    "    # Load audio and downsample\n",
    "    src, orig_sr = librosa.load(audio_path, sr=None)  # whole signal at native sampling rate\n",
    "    src = librosa.core.resample(src, orig_sr, SR)     # downsample down to SR\n",
    "    \n",
    "    # Adjust size if necessary. Vast, vast majority of mp3's are 30 seconds and should require little adjustment.\n",
    "    n_sample = src.shape[0]\n",
    "    n_sample_fit = int(DUR * SR)\n",
    "    if n_sample < n_sample_fit:                       # if too short, pad with zeros\n",
    "        src = np.hstack((src, np.zeros((int(DUR*SR) - n_sample,))))\n",
    "    elif n_sample > n_sample_fit:                     # if too long, take middle section of length DURA seconds\n",
    "        src = src[(n_sample-n_sample_fit)/2:(n_sample+n_sample_fit)/2]\n",
    "    \n",
    "    # Compute log mel spectrogram \n",
    "    logam = librosa.logamplitude\n",
    "    melgram = librosa.feature.melspectrogram\n",
    "    ret = logam(melgram(y =src, sr=SR, hop_length=HOP_LEN,\n",
    "                        n_fft=N_FFT, n_mels=N_MELS)**2,\n",
    "                ref_power=1.0)\n",
    "#     ret = ret[np.newaxis, np.newaxis, :]\n",
    "\n",
    "#     assert ret.shape == (96, 1407)\n",
    "    print ret.shape\n",
    "    return ret\n",
    "\n",
    "mel = compute_melgram('01GbSQ6e7OeneJULQ4sJT0.mp3')\n",
    "# mel = compute_melgram('0NAxC72UOJWe369LHh2Ivq.mp3')\n",
    "\n",
    "librosa.display.specshow(mel, y_axis='mel', fmax=8000, x_axis='time')\n",
    "plt.colorbar(format='%+2.0f dB')\n",
    "plt.title('Mel spectrogram')\n",
    "plt.tight_layout()\n",
    "plt.show()"
   ]
  },
  {
   "cell_type": "code",
   "execution_count": null,
   "metadata": {
    "collapsed": true
   },
   "outputs": [],
   "source": []
  }
 ],
 "metadata": {
  "kernelspec": {
   "display_name": "Python 2",
   "language": "python",
   "name": "python2"
  },
  "language_info": {
   "codemirror_mode": {
    "name": "ipython",
    "version": 2
   },
   "file_extension": ".py",
   "mimetype": "text/x-python",
   "name": "python",
   "nbconvert_exporter": "python",
   "pygments_lexer": "ipython2",
   "version": "2.7.12"
  }
 },
 "nbformat": 4,
 "nbformat_minor": 0
}
