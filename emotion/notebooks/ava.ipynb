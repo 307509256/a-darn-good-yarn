{
 "cells": [
  {
   "cell_type": "code",
   "execution_count": 1,
   "metadata": {
    "collapsed": true
   },
   "outputs": [],
   "source": [
    "import os\n",
    "import sys\n",
    "\n",
    "# Set path to root directory so we can access core, tasks, data, etc.\n",
    "os.chdir('..')\n",
    "sys.path.insert(0,  os.path.realpath('core/ext_libs'))\n",
    "from core.ext_libs.vislab.datasets import ava"
   ]
  },
  {
   "cell_type": "code",
   "execution_count": 2,
   "metadata": {
    "collapsed": false
   },
   "outputs": [
    {
     "name": "stdout",
     "output_type": "stream",
     "text": [
      "data/AVA/AVA_data/ava.h5\n",
      "data/AVA/AVA_data/ava_urls.h5\n"
     ]
    },
    {
     "data": {
      "text/plain": [
       "255530"
      ]
     },
     "execution_count": 2,
     "metadata": {},
     "output_type": "execute_result"
    }
   ],
   "source": [
    "# Get dataframe\n",
    "df = ava.get_ava_df()\n",
    "len(df)"
   ]
  },
  {
   "cell_type": "code",
   "execution_count": 3,
   "metadata": {
    "collapsed": false
   },
   "outputs": [
    {
     "data": {
      "text/html": [
       "<div>\n",
       "<table border=\"1\" class=\"dataframe\">\n",
       "  <thead>\n",
       "    <tr style=\"text-align: right;\">\n",
       "      <th></th>\n",
       "      <th>challenge_name</th>\n",
       "      <th>rating_mean</th>\n",
       "      <th>rating_std</th>\n",
       "      <th>ratings</th>\n",
       "      <th>semantic_tag_1_name</th>\n",
       "      <th>semantic_tag_2_name</th>\n",
       "      <th>image_url</th>\n",
       "      <th>page_url</th>\n",
       "    </tr>\n",
       "    <tr>\n",
       "      <th>image_id</th>\n",
       "      <th></th>\n",
       "      <th></th>\n",
       "      <th></th>\n",
       "      <th></th>\n",
       "      <th></th>\n",
       "      <th></th>\n",
       "      <th></th>\n",
       "      <th></th>\n",
       "    </tr>\n",
       "  </thead>\n",
       "  <tbody>\n",
       "    <tr>\n",
       "      <th>1048</th>\n",
       "      <td>Transitions</td>\n",
       "      <td>5.0049</td>\n",
       "      <td>1.882</td>\n",
       "      <td>[5, 16, 24, 31, 47, 41, 21, 9, 7, 2]</td>\n",
       "      <td>NaN</td>\n",
       "      <td>NaN</td>\n",
       "      <td>http://images.dpchallenge.com/images_challenge...</td>\n",
       "      <td>http://www.dpchallenge.com/image.php?IMAGE_ID=...</td>\n",
       "    </tr>\n",
       "  </tbody>\n",
       "</table>\n",
       "</div>"
      ],
      "text/plain": [
       "         challenge_name  rating_mean  rating_std  \\\n",
       "image_id                                           \n",
       "1048        Transitions       5.0049       1.882   \n",
       "\n",
       "                                       ratings semantic_tag_1_name  \\\n",
       "image_id                                                             \n",
       "1048      [5, 16, 24, 31, 47, 41, 21, 9, 7, 2]                 NaN   \n",
       "\n",
       "         semantic_tag_2_name  \\\n",
       "image_id                       \n",
       "1048                     NaN   \n",
       "\n",
       "                                                  image_url  \\\n",
       "image_id                                                      \n",
       "1048      http://images.dpchallenge.com/images_challenge...   \n",
       "\n",
       "                                                   page_url  \n",
       "image_id                                                     \n",
       "1048      http://www.dpchallenge.com/image.php?IMAGE_ID=...  "
      ]
     },
     "execution_count": 3,
     "metadata": {},
     "output_type": "execute_result"
    }
   ],
   "source": [
    "# Get one image by id\n",
    "df[df.index == '1048']"
   ]
  },
  {
   "cell_type": "code",
   "execution_count": 4,
   "metadata": {
    "collapsed": false
   },
   "outputs": [
    {
     "name": "stdout",
     "output_type": "stream",
     "text": [
      "1.809\n",
      "8.6\n",
      "5.38332620279\n",
      "0.731294466909\n",
      "1.42923005518\n",
      "0.203284084686\n",
      "74061\n",
      "180857\n",
      "7983\n",
      "49682\n",
      "15300\n",
      "77706\n",
      "18560\n",
      "88128\n"
     ]
    }
   ],
   "source": [
    "# Print some stats, show many images would be in 0-1 split depending \n",
    "# on how we handle the 'neutral' items\n",
    "# Note: 5 used in the paper\n",
    "print df.rating_mean.min()\n",
    "print df.rating_mean.max()\n",
    "print df.rating_mean.mean()\n",
    "print df.rating_mean.std()\n",
    "print df.rating_std.mean()\n",
    "print df.rating_std.std()\n",
    "\n",
    "print len(df[df.rating_mean < 5])\n",
    "print len(df[df.rating_mean > 5])\n",
    "print len(df[df.rating_mean < 4])\n",
    "print len(df[df.rating_mean > 6])\n",
    "print len(df[df.rating_mean < 4.25])\n",
    "print len(df[df.rating_mean > 5.75])\n",
    "print len(df[df.rating_mean < 4.33])\n",
    "print len(df[df.rating_mean > 5.67])"
   ]
  },
  {
   "cell_type": "code",
   "execution_count": 5,
   "metadata": {
    "collapsed": false
   },
   "outputs": [
    {
     "name": "stdout",
     "output_type": "stream",
     "text": [
      "74061\n",
      "181469\n"
     ]
    }
   ],
   "source": [
    "# Add labels\n",
    "def label_f(x, bin_edges):\n",
    "    for i in range(len(bin_edges)):\n",
    "        if x < bin_edges[i]:\n",
    "            return int(i-1)\n",
    "        \n",
    "bin_edges = [0, 5.0, 10.0]\n",
    "    \n",
    "# df_sub.dropna(inplace=True)\n",
    "df['label'] = df.rating_mean.apply(label_f, args=(bin_edges, ))\n",
    "\n",
    "print len(df[df.label == 0])\n",
    "print len(df[df.label == 1])"
   ]
  },
  {
   "cell_type": "code",
   "execution_count": null,
   "metadata": {
    "collapsed": false
   },
   "outputs": [],
   "source": [
    "# Save image_id and labels\n",
    "id2label = {}\n",
    "for id, row in df.iterrows():\n",
    "    id2label[id] = row.label\n"
   ]
  },
  {
   "cell_type": "markdown",
   "metadata": {},
   "source": [
    "## Using subset of data that have greater agreement of ratings (lower std)"
   ]
  },
  {
   "cell_type": "code",
   "execution_count": 6,
   "metadata": {
    "collapsed": true
   },
   "outputs": [],
   "source": [
    "# Work with subset of relevant columns\n",
    "df_sub = df[['rating_mean', 'rating_std', 'ratings']]\n",
    "\n",
    "# Filter to those where the rating_std is <= mean + 1std\n",
    "df_sub = df_sub[df_sub.rating_std < (df_sub.rating_std.mean() + df_sub.rating_std.std())]"
   ]
  },
  {
   "cell_type": "code",
   "execution_count": 7,
   "metadata": {
    "collapsed": false
   },
   "outputs": [
    {
     "name": "stdout",
     "output_type": "stream",
     "text": [
      "1.809\n",
      "8.6\n",
      "5.3551039645\n",
      "0.696391822286\n",
      "1.36969720392\n",
      "0.152031920846\n"
     ]
    }
   ],
   "source": [
    "# Print some things\n",
    "\n",
    "print df_sub.rating_mean.min()\n",
    "print df_sub.rating_mean.max()\n",
    "print df_sub.rating_mean.mean()\n",
    "print df_sub.rating_mean.std()\n",
    "print df_sub.rating_std.mean()\n",
    "print df_sub.rating_std.std()"
   ]
  },
  {
   "cell_type": "code",
   "execution_count": null,
   "metadata": {
    "collapsed": false
   },
   "outputs": [],
   "source": [
    "# Add labels\n",
    "def label_f(x, bin_edges):\n",
    "    for i in range(len(bin_edges)):\n",
    "        if x < bin_edges[i]:\n",
    "            return int(i-1)\n",
    "        \n",
    "bin_edges = [0, 5.0, 10.0]\n",
    "    \n",
    "# df_sub.dropna(inplace=True)\n",
    "df_sub['label'] = df_sub.rating_mean.apply(label_f, args=(bin_edges, ))\n",
    "\n",
    "print len(df_sub[df_sub.label == 0])\n",
    "print len(df_sub[df_sub.label == 1])"
   ]
  }
 ],
 "metadata": {
  "kernelspec": {
   "display_name": "Python 2",
   "language": "python",
   "name": "python2"
  },
  "language_info": {
   "codemirror_mode": {
    "name": "ipython",
    "version": 2
   },
   "file_extension": ".py",
   "mimetype": "text/x-python",
   "name": "python",
   "nbconvert_exporter": "python",
   "pygments_lexer": "ipython2",
   "version": "2.7.12"
  }
 },
 "nbformat": 4,
 "nbformat_minor": 0
}
