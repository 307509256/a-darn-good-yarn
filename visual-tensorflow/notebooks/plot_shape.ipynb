{
 "cells": [
  {
   "cell_type": "code",
   "execution_count": 1,
   "metadata": {
    "collapsed": false
   },
   "outputs": [],
   "source": [
    "import os\n",
    "import pandas as pd\n",
    "from matplotlib import pyplot as plt\n",
    "plt.style.use('ggplot')\n",
    "\n",
    "# Set path to root directory so we can access core, tasks, data, etc.\n",
    "os.chdir('..')"
   ]
  },
  {
   "cell_type": "code",
   "execution_count": 2,
   "metadata": {
    "collapsed": true
   },
   "outputs": [],
   "source": [
    "import numpy\n",
    "def smooth(x,window_len=11,window='hanning'):\n",
    "    if x.ndim != 1:\n",
    "            raise ValueError, \"smooth only accepts 1 dimension arrays.\"\n",
    "    if x.size < window_len:\n",
    "            raise ValueError, \"Input vector needs to be bigger than window size.\"\n",
    "    if window_len<3:\n",
    "            return x\n",
    "    if not window in ['flat', 'hanning', 'hamming', 'bartlett', 'blackman']:\n",
    "            raise ValueError, \"Window is on of 'flat', 'hanning', 'hamming', 'bartlett', 'blackman'\"\n",
    "    s=numpy.r_[2*x[0]-x[window_len-1::-1],x,2*x[-1]-x[-1:-window_len:-1]]\n",
    "    if window == 'flat': #moving average\n",
    "            w=numpy.ones(window_len,'d')\n",
    "    else:  \n",
    "            w=eval('numpy.'+window+'(window_len)')\n",
    "    y=numpy.convolve(w/w.sum(),s,mode='same')\n",
    "    return y[window_len:-window_len+1]"
   ]
  },
  {
   "cell_type": "code",
   "execution_count": 4,
   "metadata": {
    "collapsed": false
   },
   "outputs": [],
   "source": [
    "# Original vizsent torch\n",
    "vid = pd.read_csv('data/videos/@Animated/@NewDisney/Feast/preds_old_torch/posneg.csv',\n",
    "                  header=None, names=['Positive', 'Negative'])\n",
    "smoothed = smooth(vid.Positive.values, window_len=48)\n",
    "\n",
    "pd.Series(smoothed).plot()\n",
    "plt.show()"
   ]
  },
  {
   "cell_type": "code",
   "execution_count": null,
   "metadata": {
    "collapsed": false
   },
   "outputs": [],
   "source": [
    "# Sent biclass\n",
    "vid = pd.read_csv('data/videos/@Animated/@NewDisney/Feast/preds/sent_biclass.csv')\n",
    "\n",
    "# vid = pd.read_csv('data/plutchik/preds/sent_biclass_5.csv')\n",
    "smoothed = smooth(vid.pos.values, window_len=48)\n",
    "pd.Series(smoothed).plot()\n",
    "plt.show()"
   ]
  },
  {
   "cell_type": "code",
   "execution_count": null,
   "metadata": {
    "collapsed": false
   },
   "outputs": [],
   "source": [
    "# Plutchik\n",
    "vid = pd.read_csv('data/plutchik/preds/sent_biclass_5.csv')\n",
    "pd.Series(vid.pos.values).plot()\n",
    "plt.show()"
   ]
  },
  {
   "cell_type": "code",
   "execution_count": null,
   "metadata": {
    "collapsed": false
   },
   "outputs": [],
   "source": [
    "# Emo\n",
    "vid = pd.read_csv('data/videos/@Animated/@NewDisney/Feast/preds/emo.csv')\n",
    "\n",
    "w = 48\n",
    "anger = smooth(vid.anger.values, window_len=w)\n",
    "anticipation = smooth(vid.anticipation.values, window_len=w)\n",
    "disgust = smooth(vid.anger.values, window_len=w)\n",
    "fear = smooth(vid.anger.values, window_len=w)\n",
    "joy = smooth(vid.joy.values, window_len=w)\n",
    "sadness = smooth(vid.sadness.values, window_len=w)\n",
    "surprise = smooth(vid.surprise.values, window_len=w)\n",
    "trust = smooth(vid.trust.values, window_len=w)\n",
    "\n",
    "# Trust dominates so plot without it too\n",
    "df = pd.DataFrame({'anger': anger, 'anticipation': anticipation, 'disgust': disgust, 'fear': fear,\n",
    "                   'joy': joy, 'sadness': sadness, 'surprise': surprise, 'trust': trust})\n",
    "df.plot()\n",
    "plt.show()\n",
    "\n",
    "df = pd.DataFrame({'anger': anger, 'anticipation': anticipation, 'disgust': disgust, 'fear': fear,\n",
    "                   'joy': joy, 'sadness': sadness, 'surprise': surprise})\n",
    "df.plot()\n",
    "plt.show()\n",
    "\n",
    "pd.Series(trust).plot()\n",
    "plt.show()"
   ]
  },
  {
   "cell_type": "code",
   "execution_count": null,
   "metadata": {
    "collapsed": true
   },
   "outputs": [],
   "source": [
    "# Attempt to automatically find window size given one timeseries.\n",
    "# Calculate difference between smooth(window_size=k) and smooth(window_size=k+1), try to find\n",
    "# inflection points.\n",
    "# Unfortunately, it seems like the differences just follow power law as k increases (run this cell and see plot).\n",
    "# Must be mathematical reason for this.\n",
    "import numpy as np\n",
    "def DTWDistance(s1,s2,w=20):\n",
    "    '''\n",
    "    Calculates dynamic time warping Euclidean distance between two\n",
    "    sequences. Option to enforce locality constraint for window w.\n",
    "    '''\n",
    "    DTW={}\n",
    "\n",
    "    if w:\n",
    "        w = max(w, abs(len(s1)-len(s2)))\n",
    "\n",
    "        for i in range(-1,len(s1)):\n",
    "            for j in range(-1,len(s2)):\n",
    "                DTW[(i, j)] = float('inf')\n",
    "\n",
    "    else:\n",
    "        for i in range(len(s1)):\n",
    "            DTW[(i, -1)] = float('inf')\n",
    "        for i in range(len(s2)):\n",
    "            DTW[(-1, i)] = float('inf')\n",
    "\n",
    "    DTW[(-1, -1)] = 0\n",
    "\n",
    "    for i in range(len(s1)):\n",
    "        if w:\n",
    "            for j in range(max(0, i-w), min(len(s2), i+w)):\n",
    "                dist= (s1[i]-s2[j])**2\n",
    "                DTW[(i, j)] = dist + min(DTW[(i-1, j)],DTW[(i, j-1)], DTW[(i-1, j-1)])\n",
    "        else:\n",
    "            for j in range(len(s2)):\n",
    "                dist= (s1[i]-s2[j])**2\n",
    "                DTW[(i, j)] = dist + min(DTW[(i-1, j)],DTW[(i, j-1)], DTW[(i-1, j-1)])\n",
    "\n",
    "def euclidean_dist(x1, x2):\n",
    "    return np.sum(np.power((x1-x2), 2))\n",
    "    \n",
    "def infer_window_size(x, dist_f, min_w=60, max_w=1000):\n",
    "    distances = {}\n",
    "    prev_smoothed = smooth(x, window_len=min_w, window='flat')\n",
    "    for w in range(min_w + 1, max_w + 1):\n",
    "        cur_smoothed = smooth(x, window_len=w)\n",
    "        distances[w] = dist_f(prev_smoothed, cur_smoothed)\n",
    "        prev_smoothed = cur_smoothed\n",
    "    return distances\n",
    "\n",
    "\n",
    "vid = pd.read_csv('data/videos/@Animated/@NewDisney/Feast/preds_old_torch/posneg.csv',\n",
    "                  header=None, names=['Positive', 'Negative'])\n",
    "\n",
    "ds = infer_window_size(vid.Positive.values, euclidean_dist, min_w=5, max_w=200)\n",
    "# ds = infer_window_size(vid.Positive.values, DTWDistance, min_w=5, max_w=200)\n",
    "distances = []\n",
    "for w in sorted(ds.keys()):\n",
    "    distances.append(ds[w])\n",
    "plt.plot(distances)\n",
    "plt.show()\n"
   ]
  }
 ],
 "metadata": {
  "kernelspec": {
   "display_name": "Python 2",
   "language": "python",
   "name": "python2"
  },
  "language_info": {
   "codemirror_mode": {
    "name": "ipython",
    "version": 2
   },
   "file_extension": ".py",
   "mimetype": "text/x-python",
   "name": "python",
   "nbconvert_exporter": "python",
   "pygments_lexer": "ipython2",
   "version": "2.7.12"
  }
 },
 "nbformat": 4,
 "nbformat_minor": 0
}
