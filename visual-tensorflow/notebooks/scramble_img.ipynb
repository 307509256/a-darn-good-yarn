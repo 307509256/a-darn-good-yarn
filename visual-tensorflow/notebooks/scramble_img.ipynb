{
 "cells": [
  {
   "cell_type": "code",
   "execution_count": 6,
   "metadata": {
    "collapsed": false
   },
   "outputs": [],
   "source": [
    "import os\n",
    "import pandas as pd\n",
    "from matplotlib import pyplot as plt\n",
    "import matplotlib.image as mpimg\n",
    "import random\n",
    "\n",
    "plt.style.use('ggplot')\n",
    "\n",
    "# Set path to root directory so we can access core, tasks, data, etc.\n",
    "os.chdir('..')"
   ]
  },
  {
   "cell_type": "code",
   "execution_count": 7,
   "metadata": {
    "collapsed": false
   },
   "outputs": [],
   "source": [
    "img = mpimg.imread('notebooks/img.jpg')\n",
    "imgplot = plt.imshow(img)\n",
    "plt.show()"
   ]
  },
  {
   "cell_type": "code",
   "execution_count": 13,
   "metadata": {
    "collapsed": false
   },
   "outputs": [],
   "source": [
    "def scramble_img_recursively(img, min_block_size=64):\n",
    "    \"\"\"Return scrambled copy of numpy array\"\"\"\n",
    "    if len(img) == min_block_size:\n",
    "        return img\n",
    "    else:\n",
    "        copy = img.copy()\n",
    "        indices = range(4)\n",
    "        random.shuffle(indices)\n",
    "        # 4 lists - each list has 2 tuples: (y_start, y_end), (x_start, x_end)\n",
    "        pixelranges = [[(0,len(img)/2),(0,len(img)/2)],\n",
    "                             [(len(img)/2,len(img)),(0,len(img)/2)],\n",
    "                             [(0,len(img)/2), (len(img)/2,len(img))],\n",
    "                             [(len(img)/2, len(img)),(len(img)/2,len(img))]]\n",
    "        for i in range(4):\n",
    "            idx = indices[i]\n",
    "            copy[pixelranges[i][0][0]:pixelranges[i][0][1],pixelranges[i][1][0]:pixelranges[i][1][1],:] = \\\n",
    "                scramble_img_recursively(img[pixelranges[idx][0][0]:pixelranges[idx][0][1],pixelranges[idx][1][0]:pixelranges[idx][1][1],:])\n",
    "        return copy\n",
    "    \n",
    "img_scrambled_recursively = scramble_img_recursively(img)\n",
    "plt.imshow(img_scrambled_recursively)\n",
    "plt.show()"
   ]
  },
  {
   "cell_type": "code",
   "execution_count": 12,
   "metadata": {
    "collapsed": false
   },
   "outputs": [],
   "source": [
    "def scramble_img(img, block_size=64):\n",
    "    \"\"\"Scramble numpy array\"\"\"\n",
    "    copy = img.copy()\n",
    "    \n",
    "    if len(img) == block_size:\n",
    "        return copy\n",
    "    \n",
    "    num_blocks_onedim = (len(img) / block_size)\n",
    "    num_blocks =  num_blocks_onedim ** 2\n",
    "    indices = range(num_blocks)\n",
    "    random.shuffle(indices)\n",
    "    \n",
    "    pixelranges = []  # each sublist has 2 tuples: (y_start, y_end), (x_start, x_end)\n",
    "    for i in range(num_blocks):\n",
    "        y_idx = i % num_blocks_onedim\n",
    "        x_idx = i / num_blocks_onedim\n",
    "        y_pixelrange = (y_idx * block_size, (y_idx + 1) * block_size)\n",
    "        x_pixelrange = (x_idx * block_size, (x_idx + 1) * block_size)\n",
    "        pixelranges.append([y_pixelrange, x_pixelrange])\n",
    "    \n",
    "    for i in range(num_blocks):\n",
    "        idx = indices[i]\n",
    "        copy[pixelranges[i][0][0]:pixelranges[i][0][1],pixelranges[i][1][0]:pixelranges[i][1][1],:] = \\\n",
    "            img[pixelranges[idx][0][0]:pixelranges[idx][0][1],pixelranges[idx][1][0]:pixelranges[idx][1][1]]\n",
    "  \n",
    "    return copy\n",
    "    \n",
    "img_scrambled = scramble_img(img)\n",
    "plt.imshow(img_scrambled)\n",
    "plt.show()"
   ]
  },
  {
   "cell_type": "code",
   "execution_count": null,
   "metadata": {
    "collapsed": true
   },
   "outputs": [],
   "source": []
  }
 ],
 "metadata": {
  "kernelspec": {
   "display_name": "Python 2",
   "language": "python",
   "name": "python2"
  },
  "language_info": {
   "codemirror_mode": {
    "name": "ipython",
    "version": 2
   },
   "file_extension": ".py",
   "mimetype": "text/x-python",
   "name": "python",
   "nbconvert_exporter": "python",
   "pygments_lexer": "ipython2",
   "version": "2.7.12"
  }
 },
 "nbformat": 4,
 "nbformat_minor": 0
}
